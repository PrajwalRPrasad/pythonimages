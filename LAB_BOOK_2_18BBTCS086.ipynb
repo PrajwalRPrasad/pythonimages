{
  "nbformat": 4,
  "nbformat_minor": 0,
  "metadata": {
    "colab": {
      "name": "LAB BOOK -2 -18BBTCS086.ipynb",
      "provenance": [],
      "collapsed_sections": [],
      "authorship_tag": "ABX9TyNGCSMZ7SctFjlma48qeg6I",
      "include_colab_link": true
    },
    "kernelspec": {
      "name": "python3",
      "display_name": "Python 3"
    },
    "language_info": {
      "name": "python"
    }
  },
  "cells": [
    {
      "cell_type": "markdown",
      "metadata": {
        "id": "view-in-github",
        "colab_type": "text"
      },
      "source": [
        "<a href=\"https://colab.research.google.com/github/PrajwalRPrasad/pythonimages/blob/master/LAB_BOOK_2_18BBTCS086.ipynb\" target=\"_parent\"><img src=\"https://colab.research.google.com/assets/colab-badge.svg\" alt=\"Open In Colab\"/></a>"
      ]
    },
    {
      "cell_type": "code",
      "metadata": {
        "colab": {
          "base_uri": "https://localhost:8080/"
        },
        "id": "VS4qE4jOn9qH",
        "outputId": "a71a3f33-456d-44e8-fd8f-2f76d1658cab"
      },
      "source": [
        "import numpy as np\n",
        "\n",
        "a=np.array(9)\n",
        "\n",
        "print(\"Print A= \",a)\n",
        "\n",
        "b=np.array([10,20,30])\n",
        "\n",
        "print(\"Print B= \", b)\n",
        "\n",
        "addition= np.add(a,b)\n",
        "\n",
        "print(\"After Addition =\", addition)\n",
        "\n",
        "sub=np.subtract(b,a)\n",
        "\n",
        "print(\"After Subtraction =\",sub)\n",
        "\n",
        "mul=np.multiply (a,b)\n",
        "\n",
        "print(\"After Multiplcation =\",mul)\n",
        "\n",
        "div=np.divide (b,a)\n",
        "\n",
        "print(\"After Division =\",div)\n",
        "\n",
        "div1=np.divide (b,5)\n",
        "\n",
        "print(\"After Division =\",div1)\n"
      ],
      "execution_count": 1,
      "outputs": [
        {
          "output_type": "stream",
          "name": "stdout",
          "text": [
            "Print A=  9\n",
            "Print B=  [10 20 30]\n",
            "After Addition = [19 29 39]\n",
            "After Subtraction = [ 1 11 21]\n",
            "After Multiplcation = [ 90 180 270]\n",
            "After Division = [1.11111111 2.22222222 3.33333333]\n",
            "After Division = [2. 4. 6.]\n"
          ]
        }
      ]
    },
    {
      "cell_type": "code",
      "metadata": {
        "colab": {
          "base_uri": "https://localhost:8080/"
        },
        "id": "C4b8lZ3JoqN8",
        "outputId": "4fe4a08a-eb76-4404-d5d2-e73090ae092a"
      },
      "source": [
        "a= np.array([0.25,1.33,1,111])\n",
        "\n",
        "print(a)\n",
        "\n",
        "rec=np.reciprocal(a) \n",
        "print(rec)\n"
      ],
      "execution_count": 2,
      "outputs": [
        {
          "output_type": "stream",
          "name": "stdout",
          "text": [
            "[  0.25   1.33   1.   111.  ]\n",
            "[4.         0.7518797  1.         0.00900901]\n"
          ]
        }
      ]
    },
    {
      "cell_type": "code",
      "metadata": {
        "colab": {
          "base_uri": "https://localhost:8080/"
        },
        "id": "AQEKXbOKoqjW",
        "outputId": "a157e00f-428f-4d5e-9060-f1b973fcc3e2"
      },
      "source": [
        "a=np.array([10,100,1000])\n",
        "\n",
        "print(a)\n",
        "\n",
        "pow=np.power(a,2)\n",
        "print(\"after ^2 = \", pow)\n",
        "\n",
        "b=np.array([2,3,1])\n",
        "\n",
        "pow1=np.power(a,b)\n",
        "print(\"after b array elements as ^ = \", pow1)\n"
      ],
      "execution_count": 3,
      "outputs": [
        {
          "output_type": "stream",
          "name": "stdout",
          "text": [
            "[  10  100 1000]\n",
            "after ^2 =  [    100   10000 1000000]\n",
            "after b array elements as ^ =  [    100 1000000    1000]\n"
          ]
        }
      ]
    },
    {
      "cell_type": "code",
      "metadata": {
        "colab": {
          "base_uri": "https://localhost:8080/"
        },
        "id": "q3I-uKX1oqvo",
        "outputId": "2abd938e-176b-4b2b-bce0-bba1aec56606"
      },
      "source": [
        "a= np.array ([10,20,30])\n",
        "b= np.array ([3,5,7])\n",
        "\n",
        "print(\"values of A=\", a)\n",
        "print(\"values of B=\", b)\n",
        "\n",
        "mm=np.mod(a,b)\n",
        "\n",
        "rm=np.remainder(a,b)\n",
        "\n",
        "print(\"values of MOD=\", mm)\n",
        "print(\"values of REMAINDER=\", rm)\n"
      ],
      "execution_count": 4,
      "outputs": [
        {
          "output_type": "stream",
          "name": "stdout",
          "text": [
            "values of A= [10 20 30]\n",
            "values of B= [3 5 7]\n",
            "values of MOD= [1 0 2]\n",
            "values of REMAINDER= [1 0 2]\n"
          ]
        }
      ]
    },
    {
      "cell_type": "code",
      "metadata": {
        "colab": {
          "base_uri": "https://localhost:8080/"
        },
        "id": "-714SoJwoqxl",
        "outputId": "d73e5050-996b-4e37-9ed7-10119be5e679"
      },
      "source": [
        "a=np.array([-5.6j, 0.2j,11, 1+1j])\n",
        "print(a)\n",
        "\n",
        "print(\"real=\",np.real(a))\n",
        "\n",
        "print(\"imaginary=\",np.imag(a))\n",
        "\n",
        "print(\"Conjugate=\", np.conj(a))\n"
      ],
      "execution_count": 5,
      "outputs": [
        {
          "output_type": "stream",
          "name": "stdout",
          "text": [
            "[-0.-5.6j  0.+0.2j 11.+0.j   1.+1.j ]\n",
            "real= [-0.  0. 11.  1.]\n",
            "imaginary= [-5.6  0.2  0.   1. ]\n",
            "Conjugate= [-0.+5.6j  0.-0.2j 11.-0.j   1.-1.j ]\n"
          ]
        }
      ]
    },
    {
      "cell_type": "code",
      "metadata": {
        "colab": {
          "base_uri": "https://localhost:8080/"
        },
        "id": "OGy97_cioq0N",
        "outputId": "dde1b089-cc50-4034-b8a8-fe1363769cf9"
      },
      "source": [
        "a=np.array ([1.0,5.3,123,0.56,25.5,32])\n",
        "\n",
        "print(a)\n",
        "\n",
        "print(\"after rounding up=\", np.around(a))\n",
        "\n",
        "print(\"after rounding up to 1st decimal value =\", np.around(a,decimals=1))"
      ],
      "execution_count": 6,
      "outputs": [
        {
          "output_type": "stream",
          "name": "stdout",
          "text": [
            "[  1.     5.3  123.     0.56  25.5   32.  ]\n",
            "after rounding up= [  1.   5. 123.   1.  26.  32.]\n",
            "after rounding up to 1st decimal value = [  1.    5.3 123.    0.6  25.5  32. ]\n"
          ]
        }
      ]
    },
    {
      "cell_type": "code",
      "metadata": {
        "colab": {
          "base_uri": "https://localhost:8080/"
        },
        "id": "2wRUzFjwoq2f",
        "outputId": "214369dc-6738-482e-a78a-80eefd562832"
      },
      "source": [
        "a=np.array ([1.0,-5.3,123,-0.56,25.5,32])\n",
        "\n",
        "print(a)\n",
        "\n",
        "print('\\n')\n",
        "\n",
        "print(np.floor(a))\n",
        "\n",
        "print(np.ceil(a))\n"
      ],
      "execution_count": 7,
      "outputs": [
        {
          "output_type": "stream",
          "name": "stdout",
          "text": [
            "[  1.    -5.3  123.    -0.56  25.5   32.  ]\n",
            "\n",
            "\n",
            "[  1.  -6. 123.  -1.  25.  32.]\n",
            "[  1.  -5. 123.  -0.  26.  32.]\n"
          ]
        }
      ]
    },
    {
      "cell_type": "code",
      "metadata": {
        "colab": {
          "base_uri": "https://localhost:8080/"
        },
        "id": "ZU6Tou7Ooq4p",
        "outputId": "00489f0a-9a45-4693-f31c-9202a4c19683"
      },
      "source": [
        "import pandas as pd\n",
        "import numpy as np\n",
        "\n",
        "#Create a series with 100 random numbers\n",
        "s = pd.Series(np.random.randn(4))\n",
        "print (s)\n"
      ],
      "execution_count": 8,
      "outputs": [
        {
          "output_type": "stream",
          "name": "stdout",
          "text": [
            "0   -2.234304\n",
            "1   -0.131866\n",
            "2   -1.464326\n",
            "3    0.859755\n",
            "dtype: float64\n"
          ]
        }
      ]
    },
    {
      "cell_type": "code",
      "metadata": {
        "colab": {
          "base_uri": "https://localhost:8080/"
        },
        "id": "GNrw3eduqS6B",
        "outputId": "f17eb64c-2e37-49cb-e3fd-63eb2284beaf"
      },
      "source": [
        "import pandas as pd\n",
        "import numpy as np\n",
        "\n",
        "#Create a series with 100 random numbers\n",
        "s = pd.Series(np.random.randn(4))\n",
        "print (\"The axes are:\")\n",
        "print (s.axes)\n"
      ],
      "execution_count": 9,
      "outputs": [
        {
          "output_type": "stream",
          "name": "stdout",
          "text": [
            "The axes are:\n",
            "[RangeIndex(start=0, stop=4, step=1)]\n"
          ]
        }
      ]
    },
    {
      "cell_type": "code",
      "metadata": {
        "colab": {
          "base_uri": "https://localhost:8080/"
        },
        "id": "iuQYgZ3NqS9C",
        "outputId": "282131af-9341-4365-b332-395dd6aab1b0"
      },
      "source": [
        "import pandas as pd\n",
        "import numpy as np\n",
        "#Create a series with 100 random numbers\n",
        "s = pd.Series(np.random.randn(4))\n",
        "print (\"Is the Object empty?\")\n",
        "print (s.empty)\n"
      ],
      "execution_count": 10,
      "outputs": [
        {
          "output_type": "stream",
          "name": "stdout",
          "text": [
            "Is the Object empty?\n",
            "False\n"
          ]
        }
      ]
    },
    {
      "cell_type": "code",
      "metadata": {
        "colab": {
          "base_uri": "https://localhost:8080/"
        },
        "id": "LBE3GVaCoq60",
        "outputId": "4a79ce2d-23dd-4246-aea9-aa5f93c3c46a"
      },
      "source": [
        "import pandas as pd\n",
        "import numpy as np\n",
        "\n",
        "#Create a series with 4 random numbers\n",
        "s = pd.Series(np.random.randn(4))\n",
        "print (s)\n",
        "\n",
        "print (\"The dimensions of the object:\")\n",
        "print (s.ndim)\n"
      ],
      "execution_count": 11,
      "outputs": [
        {
          "output_type": "stream",
          "name": "stdout",
          "text": [
            "0    1.751429\n",
            "1    0.314127\n",
            "2   -0.814821\n",
            "3    1.166480\n",
            "dtype: float64\n",
            "The dimensions of the object:\n",
            "1\n"
          ]
        }
      ]
    },
    {
      "cell_type": "code",
      "metadata": {
        "colab": {
          "base_uri": "https://localhost:8080/"
        },
        "id": "nBbkDJvwoq9R",
        "outputId": "5f120d06-8d51-4327-a1a6-d91f4071e11a"
      },
      "source": [
        "import pandas as pd\n",
        "import numpy as np\n",
        "\n",
        "#Create a series with 4 random numbers\n",
        "s = pd.Series(np.random.randn(2))\n",
        "print (s)\n",
        "print (\"The size of the object:\")\n",
        "print (s.size)\n"
      ],
      "execution_count": 12,
      "outputs": [
        {
          "output_type": "stream",
          "name": "stdout",
          "text": [
            "0   -0.145152\n",
            "1    0.135614\n",
            "dtype: float64\n",
            "The size of the object:\n",
            "2\n"
          ]
        }
      ]
    },
    {
      "cell_type": "code",
      "metadata": {
        "colab": {
          "base_uri": "https://localhost:8080/"
        },
        "id": "ekJrIzYYoq_n",
        "outputId": "ef561083-2e13-415d-80e3-dae594fef9dd"
      },
      "source": [
        "import pandas as pd\n",
        "import numpy as np\n",
        "\n",
        "#Create a series with 4 random numbers\n",
        "s = pd.Series(np.random.randn(4))\n",
        "print (s)\n",
        "\n",
        "print (\"The actual data series is:\")\n",
        "print (s.values)\n"
      ],
      "execution_count": 13,
      "outputs": [
        {
          "output_type": "stream",
          "name": "stdout",
          "text": [
            "0    0.776545\n",
            "1    0.407317\n",
            "2   -1.189349\n",
            "3   -0.080074\n",
            "dtype: float64\n",
            "The actual data series is:\n",
            "[ 0.77654457  0.40731724 -1.18934872 -0.08007425]\n"
          ]
        }
      ]
    },
    {
      "cell_type": "code",
      "metadata": {
        "colab": {
          "base_uri": "https://localhost:8080/"
        },
        "id": "5pUzIpNCorGv",
        "outputId": "bd974b57-c483-4063-b1ea-8e069e1b7610"
      },
      "source": [
        "import pandas as pd\n",
        "import numpy as np\n",
        "\n",
        "#Create a series with 4 random numbers\n",
        "s = pd.Series(np.random.randn(4))\n",
        "print (\"The original series is:\")\n",
        "print (s)\n",
        "\n",
        "print (\"The first two rows of the data series:\")\n",
        "print (s.head(2))\n"
      ],
      "execution_count": 14,
      "outputs": [
        {
          "output_type": "stream",
          "name": "stdout",
          "text": [
            "The original series is:\n",
            "0   -0.783067\n",
            "1    0.707303\n",
            "2   -1.933227\n",
            "3    0.060647\n",
            "dtype: float64\n",
            "The first two rows of the data series:\n",
            "0   -0.783067\n",
            "1    0.707303\n",
            "dtype: float64\n"
          ]
        }
      ]
    },
    {
      "cell_type": "code",
      "metadata": {
        "colab": {
          "base_uri": "https://localhost:8080/"
        },
        "id": "XAuJwCvAorLN",
        "outputId": "7d55fc3f-5a9a-4866-b20d-f9d7f1897974"
      },
      "source": [
        "import pandas as pd\n",
        "import numpy as np\n",
        "\n",
        "#Create a series with 4 random numbers\n",
        "s = pd.Series(np.random.randn(4))\n",
        "print (\"The original series is:\")\n",
        "print (s)\n",
        "\n",
        "print (\"The last two rows of the data series:\")\n",
        "print (s.tail(2))\n"
      ],
      "execution_count": 15,
      "outputs": [
        {
          "output_type": "stream",
          "name": "stdout",
          "text": [
            "The original series is:\n",
            "0    0.898052\n",
            "1   -2.269733\n",
            "2   -0.839902\n",
            "3   -0.227560\n",
            "dtype: float64\n",
            "The last two rows of the data series:\n",
            "2   -0.839902\n",
            "3   -0.227560\n",
            "dtype: float64\n"
          ]
        }
      ]
    },
    {
      "cell_type": "code",
      "metadata": {
        "colab": {
          "base_uri": "https://localhost:8080/"
        },
        "id": "XZdDXxOdsMRB",
        "outputId": "ce52a8ca-b87a-467b-de1f-9f8312f0bf14"
      },
      "source": [
        "import pandas as pd\n",
        "import numpy as np\n",
        "\n",
        "#Create a Dictionary of series\n",
        "d = {'Name':pd.Series(['Rahul','Rohit','Virat','Surya','Shreyas','Rishab','Hardik']),\n",
        "   'Age':pd.Series([25,26,25,23,30,29,23]),\n",
        "   'Rating':pd.Series([4.23,3.24,3.98,2.56,3.20,4.6,3.8])}\n",
        "\n",
        "#Create a DataFrame\n",
        "df = pd.DataFrame(d)\n",
        "print (\"Our data series is:\")\n",
        "print (df)\n"
      ],
      "execution_count": 16,
      "outputs": [
        {
          "output_type": "stream",
          "name": "stdout",
          "text": [
            "Our data series is:\n",
            "      Name  Age  Rating\n",
            "0    Rahul   25    4.23\n",
            "1    Rohit   26    3.24\n",
            "2    Virat   25    3.98\n",
            "3    Surya   23    2.56\n",
            "4  Shreyas   30    3.20\n",
            "5   Rishab   29    4.60\n",
            "6   Hardik   23    3.80\n"
          ]
        }
      ]
    },
    {
      "cell_type": "code",
      "metadata": {
        "id": "P9ehNZ3RsMdp"
      },
      "source": [
        ""
      ],
      "execution_count": null,
      "outputs": []
    },
    {
      "cell_type": "code",
      "metadata": {
        "id": "jnBXnmf6sMfp"
      },
      "source": [
        ""
      ],
      "execution_count": null,
      "outputs": []
    },
    {
      "cell_type": "code",
      "metadata": {
        "id": "OsXgwO-wsMhy"
      },
      "source": [
        ""
      ],
      "execution_count": null,
      "outputs": []
    },
    {
      "cell_type": "code",
      "metadata": {
        "id": "qYHa1unAsMkP"
      },
      "source": [
        ""
      ],
      "execution_count": null,
      "outputs": []
    },
    {
      "cell_type": "code",
      "metadata": {
        "id": "w3cYwnY1sMvk"
      },
      "source": [
        ""
      ],
      "execution_count": null,
      "outputs": []
    }
  ]
}